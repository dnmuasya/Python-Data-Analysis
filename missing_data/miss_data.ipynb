#STEP 1 - Importing modules
import pandas as pd
import numpy as np
import seaborn as sns
import datetime
from matplotlib import pyplot as plt
import plotly.express as px

#load the dataset
df_companies = pd.read_csv('Unicorn_Companies.csv')

#STEP 2 - Data Exploration
#display top 10 rows
df_companies.head(10)

#get the shape of the dataset
df_companies.shape

#get the data types and number of non-null values 
df_companies.info()
#notice `City` and `Select Investors` columns has fewer count values indicating missing data 

#descriptive statitistics
df_companies.describe()

#Data preprocessing
#convert `Date Joined` to `datetime` data type
df_companies['Date Joined'] = pd.to_datetime(df_companies['Date Joined'])

#create `Year Joined` from `Date Joined`
df_companies['Year Joined'] = df_companies['Date Joined'].dt.year
df_companies.head(20)

#create a `valuation_num` int column from the `Valuation` string column and strip the `$` and `B`
#define a function to strip `$` and `B` and convert the string to `int` datatype
def str_to_num(my_string):
    my_string = my_string.strip('$B')
    my_string = int(my_string)

    return my_string


#create a `valuation_num` column 
df_companies['valuation_num'] = df_companies['Valuation'].apply(str_to_num)
df_companies.head()

#check missing values in all the columns
df_companies.isna().sum()
#`City` has 16 missing values and `Select Investors` has one missing value

#review and display rows with missing values to understand the nature of the values
#apply the `isna()` method and assign to `mask` - creates a similar boolean dataframe
mask = df_companies.isna()
mask.tail()
mask.head()

#find the indices of rows that contain atleast one `True`, indicating missing values
#use `any()` on the mask
mask = mask.any(axis=1)
mask.head()

#filter the missing rows in the `mask` dataframe and assign to `df_missing_rows` data frame
df_missing_rows = df_companies[mask]
df_missing_rows

#companies with missing `City` are in Singapore, Bahamas and HongKong
#12 of the missing `City` companies are in Singapore, 3 in HongKong - Asia continent
#Check with the database owner to get inteligent response on the missing data
